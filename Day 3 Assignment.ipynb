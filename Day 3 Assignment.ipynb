{
 "cells": [
  {
   "cell_type": "markdown",
   "metadata": {},
   "source": [
    "# Q1"
   ]
  },
  {
   "cell_type": "code",
   "execution_count": 3,
   "metadata": {},
   "outputs": [
    {
     "name": "stdout",
     "output_type": "stream",
     "text": [
      "[ 2  5  8 11 14 17 20 23 26 29 32 35 38 41 44 47]\n"
     ]
    }
   ],
   "source": [
    "import numpy as np\n",
    "arr=np.arange(2,50,3)\n",
    "print(arr)"
   ]
  },
  {
   "cell_type": "markdown",
   "metadata": {},
   "source": [
    "# Q2"
   ]
  },
  {
   "cell_type": "code",
   "execution_count": 17,
   "metadata": {},
   "outputs": [
    {
     "name": "stdout",
     "output_type": "stream",
     "text": [
      "4\n",
      "9\n",
      "6\n",
      "1\n",
      "5\n",
      "lst1: [9, 6, 1, 5]\n",
      "4\n",
      "7\n",
      "3\n",
      "2\n",
      "8\n",
      "lst2: [7, 3, 2, 8]\n",
      "\n",
      "Arr1: [9 6 1 5]\n",
      "Arr2: [7 3 2 8]\n",
      "[16  9  3 13]\n",
      "\n",
      "[1 5 6 9]\n",
      "[2 3 7 8]\n"
     ]
    }
   ],
   "source": [
    "l1=[]\n",
    "n=int(input())\n",
    "for i in range(0,n):\n",
    "    el=int(input())\n",
    "    l1.append(el)\n",
    "print(\"lst1:\",l1)\n",
    "l2=[]\n",
    "x=int(input())\n",
    "for i in range(0,x):\n",
    "    ele=int(input())\n",
    "    l2.append(ele)\n",
    "print(\"lst2:\",l2)\n",
    "print()\n",
    "arr1=np.array(l1)\n",
    "print(\"Arr1:\",arr1)\n",
    "arr2=np.array(l2)\n",
    "print(\"Arr2:\",arr2)\n",
    "print(arr1+arr2)\n",
    "print()\n",
    "print(np.sort(arr1))\n",
    "print(np.sort(arr2))"
   ]
  },
  {
   "cell_type": "markdown",
   "metadata": {},
   "source": [
    "# Q3"
   ]
  },
  {
   "cell_type": "code",
   "execution_count": 18,
   "metadata": {},
   "outputs": [
    {
     "name": "stdout",
     "output_type": "stream",
     "text": [
      "Array is of type:  <class 'numpy.ndarray'>\n",
      "No. of dimensions:  2\n",
      "Size of array:  6\n",
      "Array stores elements of type:  int32\n"
     ]
    }
   ],
   "source": [
    "arr3 = np.array( [[ 1, 2, 3],\n",
    "                 [ 4, 2, 5]] )\n",
    "print(\"Array is of type: \", type(arr3))\n",
    "print(\"No. of dimensions: \", arr3.ndim)\n",
    "print(\"Size of array: \", arr3.size)\n",
    "print(\"Array stores elements of type: \", arr3.dtype)"
   ]
  },
  {
   "cell_type": "markdown",
   "metadata": {},
   "source": [
    "# Q4"
   ]
  },
  {
   "cell_type": "code",
   "execution_count": 28,
   "metadata": {},
   "outputs": [
    {
     "name": "stdout",
     "output_type": "stream",
     "text": [
      "(6,)\n",
      "(1, 6)\n",
      "(1, 6)\n",
      "(6, 1)\n"
     ]
    }
   ],
   "source": [
    "#Converting of 1D array into 2D array\n",
    "arr4=np.array([1,2,3,4,5,6])\n",
    "print(arr4.shape)\n",
    "a=arr4[np.newaxis,:]\n",
    "print(a.shape)\n",
    "b=np.expand_dims(arr4,axis=0)\n",
    "print(b.shape)\n",
    "c=np.expand_dims(arr4,axis=1)\n",
    "print(c.shape)"
   ]
  },
  {
   "cell_type": "markdown",
   "metadata": {},
   "source": [
    "# Q5 "
   ]
  },
  {
   "cell_type": "code",
   "execution_count": 37,
   "metadata": {},
   "outputs": [
    {
     "name": "stdout",
     "output_type": "stream",
     "text": [
      "Horizontal : [12 13 14 21 22 23]\n",
      "\n",
      "Vertical: [[12 13 14]\n",
      " [21 22 23]]\n"
     ]
    }
   ],
   "source": [
    "arr5=np.array([12,13,14])\n",
    "arr6=np.array([21,22,23])\n",
    "print(\"Horizontal :\",np.hstack((arr5,arr6)))\n",
    "print()\n",
    "print(\"Vertical:\",np.vstack((arr5,arr6)))"
   ]
  },
  {
   "cell_type": "markdown",
   "metadata": {},
   "source": [
    "# Q6"
   ]
  },
  {
   "cell_type": "code",
   "execution_count": 39,
   "metadata": {},
   "outputs": [
    {
     "name": "stdout",
     "output_type": "stream",
     "text": [
      "Original array: [10 10 20 10 20 20 20 30 30 50 40 40]\n",
      "Count of unique values of array:\n",
      "[[10 20 30 40 50]\n",
      " [ 3  4  2  2  1]]\n"
     ]
    }
   ],
   "source": [
    "#To get Unique items we use unique() function. The unique() function is used to find the unique elements of an array.\n",
    "f = np.array( [10,10,20,10,20,20,20,30, 30,50,40,40] )\n",
    "print(\"Original array:\",f)\n",
    "unique_elements, counts_elements = np.unique(f, return_counts=True)\n",
    "print(\"Count of unique values of array:\")\n",
    "print(np.asarray((unique_elements, counts_elements)))"
   ]
  },
  {
   "cell_type": "code",
   "execution_count": null,
   "metadata": {},
   "outputs": [],
   "source": []
  }
 ],
 "metadata": {
  "kernelspec": {
   "display_name": "Python 3",
   "language": "python",
   "name": "python3"
  },
  "language_info": {
   "codemirror_mode": {
    "name": "ipython",
    "version": 3
   },
   "file_extension": ".py",
   "mimetype": "text/x-python",
   "name": "python",
   "nbconvert_exporter": "python",
   "pygments_lexer": "ipython3",
   "version": "3.7.6"
  }
 },
 "nbformat": 4,
 "nbformat_minor": 4
}
