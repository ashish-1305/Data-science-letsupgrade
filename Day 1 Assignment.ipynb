{
 "cells": [
  {
   "cell_type": "markdown",
   "metadata": {},
   "source": [
    "# q1"
   ]
  },
  {
   "cell_type": "code",
   "execution_count": 1,
   "metadata": {},
   "outputs": [
    {
     "name": "stdout",
     "output_type": "stream",
     "text": [
      "----JUMBLED WORD----\n",
      "type 'exit' to terminate\n",
      "the jumbled word is : obraiwn\n",
      "enter the correct word : rainbow\n",
      "omg!! the smartest person in the world !!\n"
     ]
    }
   ],
   "source": [
    "import random\n",
    "print(\"----JUMBLED WORD----\")\n",
    "word_lis=['rainbow','ranibow','bowrani','robwani']\n",
    "print(\"type \\'exit\\' to terminate\")\n",
    "while True:\n",
    "    word_pick=random.choice(word_lis)\n",
    "    # print(word_pick)\n",
    "    shuffled_lis=random.sample(word_pick,len(word_pick))\n",
    "    shuffled_word=''.join(shuffled_lis)\n",
    "    print(f\"the jumbled word is : {shuffled_word}\")\n",
    "    guess_word=input(\"enter the correct word : \")\n",
    "    if guess_word == word_pick:\n",
    "        print(\"omg!! the smartest person in the world !!\")\n",
    "        break\n",
    "    elif guess_word=='exit':\n",
    "        break\n",
    "    else:\n",
    "        print('idiot')\n",
    "        print(\"try again?\")\n",
    "    "
   ]
  },
  {
   "cell_type": "markdown",
   "metadata": {},
   "source": [
    "## q2"
   ]
  },
  {
   "cell_type": "code",
   "execution_count": 2,
   "metadata": {},
   "outputs": [
    {
     "name": "stdout",
     "output_type": "stream",
     "text": [
      "LETS UPGRADE\n"
     ]
    }
   ],
   "source": [
    "a=\"lets upgrade\"\n",
    "print(a.upper())"
   ]
  },
  {
   "cell_type": "markdown",
   "metadata": {},
   "source": [
    "# q3"
   ]
  },
  {
   "cell_type": "code",
   "execution_count": 3,
   "metadata": {},
   "outputs": [
    {
     "name": "stdout",
     "output_type": "stream",
     "text": [
      "20\n",
      "10\n",
      "Loss\n"
     ]
    }
   ],
   "source": [
    "cp=int(input())\n",
    "sp=int(input())\n",
    "if(cp>sp):\n",
    "    print(\"Loss\")\n",
    "elif(cp<sp):\n",
    "    print(\"Profit\")\n",
    "else:\n",
    "    print(\"Neither\")"
   ]
  },
  {
   "cell_type": "markdown",
   "metadata": {},
   "source": [
    "# q4"
   ]
  },
  {
   "cell_type": "code",
   "execution_count": 4,
   "metadata": {},
   "outputs": [
    {
     "name": "stdout",
     "output_type": "stream",
     "text": [
      "20\n",
      "1600\n"
     ]
    }
   ],
   "source": [
    "indian_rupee=int(input())\n",
    "#euro\n",
    "print(80*indian_rupee)\n"
   ]
  },
  {
   "cell_type": "code",
   "execution_count": null,
   "metadata": {},
   "outputs": [],
   "source": []
  }
 ],
 "metadata": {
  "kernelspec": {
   "display_name": "Python 3",
   "language": "python",
   "name": "python3"
  },
  "language_info": {
   "codemirror_mode": {
    "name": "ipython",
    "version": 3
   },
   "file_extension": ".py",
   "mimetype": "text/x-python",
   "name": "python",
   "nbconvert_exporter": "python",
   "pygments_lexer": "ipython3",
   "version": "3.7.6"
  }
 },
 "nbformat": 4,
 "nbformat_minor": 4
}
